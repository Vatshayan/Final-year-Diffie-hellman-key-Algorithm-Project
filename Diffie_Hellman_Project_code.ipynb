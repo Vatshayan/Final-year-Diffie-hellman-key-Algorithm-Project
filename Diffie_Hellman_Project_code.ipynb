{
  "nbformat": 4,
  "nbformat_minor": 0,
  "metadata": {
    "colab": {
      "name": "Diffie Hellman_Project_code.ipynb",
      "provenance": [],
      "collapsed_sections": []
    },
    "kernelspec": {
      "name": "python3",
      "display_name": "Python 3"
    }
  },
  "cells": [
    {
      "cell_type": "markdown",
      "metadata": {
        "id": "8THL82dKSLrH"
      },
      "source": [
        "\r\n",
        "\r\n",
        "**SECURE COMMUNICATION**\r\n",
        "\r\n",
        "\r\n",
        "**SECURING COMMUNICATION THROUGH VARIOUS LAYERS**\r\n"
      ]
    },
    {
      "cell_type": "markdown",
      "metadata": {
        "id": "-R4v1BF5S0pK"
      },
      "source": [
        "1st Process..\r\n",
        "\r\n",
        "Implementing Diffie Hellman Exchange Algorithm"
      ]
    },
    {
      "cell_type": "code",
      "metadata": {
        "colab": {
          "base_uri": "https://localhost:8080/"
        },
        "id": "fdAC6mEXSEPt",
        "outputId": "787d8ad9-fb5d-4674-f9c6-5bd1df89e4eb"
      },
      "source": [
        "# use Python 3 print function\r\n",
        "# this code ensures that the print function works the same in Python 2.x and 3.x\r\n",
        "from __future__ import print_function\r\n",
        "\r\n",
        "# Variables Used\r\n",
        "P = int(input(' Please enter the value of P.'))\r\n",
        "print('  Thanks for entering the value of P as ' + str(P))\r\n",
        "g = int(input(' Please enter the value of g.'))\r\n",
        "print('  Thanks for entering the value of g as ' + str(g))\r\n",
        " \r\n",
        "a = int(input(' \\n Please enter the value of a.'))\r\n",
        "b = int(input(' Please enter the value of b.'))\r\n",
        "\r\n",
        "# A1 Sends B2 A = g^a mod P\r\n",
        "A = (g**a) % P\r\n",
        "print( \"\\n  A1 sends over to B2: \" , A )\r\n",
        " \r\n",
        "# B2 Sends A1 B = g^b mod P\r\n",
        "B = (g ** b) % P\r\n",
        "print( \"  B2 sends over to A1: \" , B )\r\n",
        "\r\n",
        "# A1 computes the Shared Secret: S_A1 = B^a mod P\r\n",
        "A1SharedSecret = (B ** a) % P\r\n",
        "print( \"    \\n  A1 Shared Secret: \", A1SharedSecret )\r\n",
        " \r\n",
        "# B2 computes the Shared Secret: S_B2 = A^b mod P\r\n",
        "B2SharedSecret = (A**b) % P\r\n",
        "print( \"  B2 Shared Secret: \", B2SharedSecret )"
      ],
      "execution_count": 1,
      "outputs": [
        {
          "output_type": "stream",
          "text": [
            " Please enter the value of P.12\n",
            "  Thanks for entering the value of P as 12\n",
            " Please enter the value of g.10\n",
            "  Thanks for entering the value of g as 10\n",
            " \n",
            " Please enter the value of a.8\n",
            " Please enter the value of b.6\n",
            "\n",
            "  A1 sends over to B2:  4\n",
            "  B2 sends over to A1:  4\n",
            "    \n",
            "  A1 Shared Secret:  4\n",
            "  B2 Shared Secret:  4\n"
          ],
          "name": "stdout"
        }
      ]
    },
    {
      "cell_type": "markdown",
      "metadata": {
        "id": "Nl_PfAmISmPC"
      },
      "source": [
        "2nd PROCESS\r\n",
        "\r\n",
        "Now, \r\n",
        "\r\n",
        "Vignere Process will happen..\r\n",
        "\r\n",
        "\r\n",
        "Then Polybius Cipher Process...\r\n",
        "\r\n",
        "\r\n",
        "Easy to Understand !"
      ]
    },
    {
      "cell_type": "code",
      "metadata": {
        "id": "d6q-cj1GSepv"
      },
      "source": [
        "# Python code to implement \r\n",
        "# Vigenere Cipher \r\n",
        "\r\n",
        "# This function generates the \r\n",
        "# key in a cyclic manner until \r\n",
        "# it's length isn't equal to \r\n",
        "# the length of original text \r\n",
        "def generateKey(string, key): \r\n",
        "\tkey = list(key) \r\n",
        "\tif len(string) == len(key): \r\n",
        "\t\treturn(key) \r\n",
        "\telse: \r\n",
        "\t\tfor i in range(len(string) -\r\n",
        "\t\t\t\t\tlen(key)): \r\n",
        "\t\t\tkey.append(key[i % len(key)]) \r\n",
        "\treturn(\"\" . join(key)) "
      ],
      "execution_count": 2,
      "outputs": []
    },
    {
      "cell_type": "markdown",
      "metadata": {
        "id": "ALuK440lTA_Z"
      },
      "source": [
        "WAIT WAIT WAIT..... !\r\n",
        "\r\n",
        "\r\n",
        "There is more Numbers of line of code."
      ]
    },
    {
      "cell_type": "markdown",
      "metadata": {
        "id": "BV808XdHTMl5"
      },
      "source": [
        "Hi there, \r\n",
        "\r\n",
        "This Project will be Useful for you!\r\n",
        "\r\n",
        "you can use it for your college project.\r\n",
        "\r\n",
        "Also for Startups.\r\n",
        "\r\n",
        "\r\n",
        "Mail me now at **vatshayan007@gmail.com** to get full explained project code, project report, PPT and research paper on this Project"
      ]
    },
    {
      "cell_type": "code",
      "metadata": {
        "id": "CdC4RpE_TAAm"
      },
      "source": [
        ""
      ],
      "execution_count": null,
      "outputs": []
    }
  ]
}